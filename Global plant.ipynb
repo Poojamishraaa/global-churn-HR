{
 "cells": [
  {
   "cell_type": "code",
   "execution_count": 1,
   "id": "e7df5779",
   "metadata": {},
   "outputs": [],
   "source": [
    "import pandas as pd"
   ]
  },
  {
   "cell_type": "code",
   "execution_count": 2,
   "id": "d03c62a3",
   "metadata": {},
   "outputs": [],
   "source": [
    "#load the data \n",
    "data=pd.read_csv(\"https://raw.githubusercontent.com/wri/global-power-plant-database/master/source_databases_csv/database_IND.csv\")"
   ]
  },
  {
   "cell_type": "code",
   "execution_count": 9,
   "id": "fae18321",
   "metadata": {},
   "outputs": [],
   "source": [
    "# Function to predict the primary fuel based on the fuel attributes\n",
    "def predict_primary_fuel(data):\n",
    "    # Get unique fuel types excluding missing values\n",
    "    fuel_types = data['primary_fuel'].dropna().unique()\n",
    "\n",
    "    # Print the predicted primary fuel types\n",
    "    print(\"Predicted Primary Fuel Types:\")\n",
    "    for fuel in fuel_types:\n",
    "        print(fuel)\n"
   ]
  },
  {
   "cell_type": "code",
   "execution_count": 13,
   "id": "43ff2aa6",
   "metadata": {},
   "outputs": [],
   "source": [
    "# Function to predict the capacity of power plants\n",
    "def predict_capacity(data):\n",
    "    # Get the range of capacity values\n",
    "    min_capacity = data['capacity_mw'].min()\n",
    "    max_capacity = data['capacity_mw'].max()\n",
    "    # Print the predicted capacity range\n",
    "    print(f\"Predicted Capacity Range: {min_capacity} MW - {max_capacity} MW\")\n",
    "\n",
    "\n",
    " "
   ]
  },
  {
   "cell_type": "code",
   "execution_count": 14,
   "id": "f6fb76ed",
   "metadata": {},
   "outputs": [
    {
     "name": "stdout",
     "output_type": "stream",
     "text": [
      "Predicted Primary Fuel Types:\n",
      "Solar\n",
      "Coal\n",
      "Wind\n",
      "Gas\n",
      "Hydro\n",
      "Biomass\n",
      "Oil\n",
      "Nuclear\n",
      "Predicted Capacity Range: 0.0 MW - 4760.0 MW\n"
     ]
    }
   ],
   "source": [
    "# Call the prediction functions\n",
    "predict_primary_fuel(data)\n",
    "predict_capacity(data)\n"
   ]
  },
  {
   "cell_type": "code",
   "execution_count": null,
   "id": "ce7d0718",
   "metadata": {},
   "outputs": [],
   "source": []
  }
 ],
 "metadata": {
  "kernelspec": {
   "display_name": "Python 3 (ipykernel)",
   "language": "python",
   "name": "python3"
  },
  "language_info": {
   "codemirror_mode": {
    "name": "ipython",
    "version": 3
   },
   "file_extension": ".py",
   "mimetype": "text/x-python",
   "name": "python",
   "nbconvert_exporter": "python",
   "pygments_lexer": "ipython3",
   "version": "3.9.13"
  }
 },
 "nbformat": 4,
 "nbformat_minor": 5
}
