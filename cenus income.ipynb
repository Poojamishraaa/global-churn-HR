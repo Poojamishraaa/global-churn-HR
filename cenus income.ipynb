{
 "cells": [
  {
   "cell_type": "code",
   "execution_count": 7,
   "id": "85160086",
   "metadata": {},
   "outputs": [
    {
     "name": "stdout",
     "output_type": "stream",
     "text": [
      "Accuracy: 1.0\n",
      "Prediction: >50K\n"
     ]
    }
   ],
   "source": [
    "import pandas as pd\n",
    "from sklearn.model_selection import train_test_split\n",
    "from sklearn.ensemble import RandomForestClassifier\n",
    "from sklearn.metrics import accuracy_score\n",
    "\n",
    "# Read the data from a CSV file (replace 'path_to_file' with the actual file path)\n",
    "data = pd.read_csv('https://raw.githubusercontent.com/dsrscientist/dataset1/master/census_income.csv')\n",
    "\n",
    "# Preprocess the data\n",
    "# Remove unnecessary columns (if any)\n",
    "data = data.drop(['Fnlwgt'], axis=1)\n",
    "\n",
    "# Convert categorical variables to numerical using one-hot encoding\n",
    "data = pd.get_dummies(data)\n",
    "\n",
    "# Separate the features and target variable\n",
    "X = data.drop(['Income_ >50K'], axis=1)\n",
    "y = data['Income_ >50K']\n",
    "\n",
    "# Split the data into training and testing sets\n",
    "X_train, X_test, y_train, y_test = train_test_split(X, y, test_size=0.2, random_state=42)\n",
    "\n",
    "# Train a Random Forest classifier\n",
    "model = RandomForestClassifier(random_state=42)\n",
    "model.fit(X_train, y_train)\n",
    "\n",
    "# Make predictions on the test set\n",
    "y_pred = model.predict(X_test)\n",
    "\n",
    "# Evaluate the accuracy of the model\n",
    "accuracy = accuracy_score(y_test, y_pred)\n",
    "print(f\"Accuracy: {accuracy}\")\n",
    "\n",
    "# Example prediction for a new data point\n",
    "new_data = pd.DataFrame({\n",
    "    'age': [35],\n",
    "    'education_num': [8],\n",
    "    'capital_gain': [0],\n",
    "    'capital_loss': [0],\n",
    "    'hours_per_week': [40],\n",
    "    'workclass_ Private': [1],\n",
    "    'workclass_ Self-emp-not-inc': [0],\n",
    "    'workclass_ Local-gov': [0],\n",
    "    'workclass_ ?': [0],\n",
    "    'marital_status_ Married-civ-spouse': [1],\n",
    "    'marital_status_ Never-married': [0],\n",
    "    'marital_status_ Divorced': [0],\n",
    "    'occupation_ Exec-managerial': [0],\n",
    "    'occupation_ Prof-specialty': [1],\n",
    "    'occupation_ Other-service': [0],\n",
    "    'occupation_ ?': [0],\n",
    "    'relationship_ Husband': [1],\n",
    "    'relationship_ Not-in-family': [0],\n",
    "    'relationship_ Own-child': [0],\n",
    "    'relationship_ Unmarried': [0],\n",
    "    'race_ White': [1],\n",
    "    'race_ Black': [0],\n",
    "    'race_ Asian-Pac-Islander': [0],\n",
    "    'race_ Amer-Indian-Eskimo': [0],\n",
    "    'sex_ Male': [1],\n",
    "    'sex_ Female': [0],\n",
    "    'native_country_ United-States': [1],\n",
    "    'native_country_ Mexico': [0],\n",
    "    'native_country_ ?': [0]\n",
    "})\n",
    "\n",
    "# Ensure the new_data columns match the training data columns\n",
    "new_data = new_data.reindex(columns=X.columns, fill_value=0)\n",
    "\n",
    "prediction = model.predict(new_data)\n",
    "print(f\"Prediction: {'>50K' if prediction[0] else '<=50K'}\")\n"
   ]
  },
  {
   "cell_type": "code",
   "execution_count": null,
   "id": "9d802119",
   "metadata": {},
   "outputs": [],
   "source": []
  }
 ],
 "metadata": {
  "kernelspec": {
   "display_name": "Python 3 (ipykernel)",
   "language": "python",
   "name": "python3"
  },
  "language_info": {
   "codemirror_mode": {
    "name": "ipython",
    "version": 3
   },
   "file_extension": ".py",
   "mimetype": "text/x-python",
   "name": "python",
   "nbconvert_exporter": "python",
   "pygments_lexer": "ipython3",
   "version": "3.9.13"
  }
 },
 "nbformat": 4,
 "nbformat_minor": 5
}
